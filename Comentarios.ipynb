{
  "nbformat": 4,
  "nbformat_minor": 0,
  "metadata": {
    "colab": {
      "provenance": [],
      "authorship_tag": "ABX9TyNPBofxwuz5YJAsJix1T2GA",
      "include_colab_link": true
    },
    "kernelspec": {
      "name": "python3",
      "display_name": "Python 3"
    },
    "language_info": {
      "name": "python"
    }
  },
  "cells": [
    {
      "cell_type": "markdown",
      "metadata": {
        "id": "view-in-github",
        "colab_type": "text"
      },
      "source": [
        "<a href=\"https://colab.research.google.com/github/Serchus07/python-ciencia-datos/blob/main/Comentarios.ipynb\" target=\"_parent\"><img src=\"https://colab.research.google.com/assets/colab-badge.svg\" alt=\"Open In Colab\"/></a>"
      ]
    },
    {
      "cell_type": "code",
      "execution_count": null,
      "metadata": {
        "colab": {
          "base_uri": "https://localhost:8080/"
        },
        "id": "9cRQ7y0_dbT_",
        "outputId": "7eb97434-53e3-4632-ad6c-0e38d0b6df3f"
      },
      "outputs": [
        {
          "output_type": "stream",
          "name": "stdout",
          "text": [
            "Hola mundo\n"
          ]
        }
      ],
      "source": [
        "# Este es un comentario en python\n",
        "print('Hola mundo')"
      ]
    },
    {
      "cell_type": "markdown",
      "source": [
        "Este comentario es en Colab.\n"
      ],
      "metadata": {
        "id": "2TAiLvsimS9G"
      }
    },
    {
      "cell_type": "code",
      "source": [
        "\"\"\"\n",
        "Este\n",
        "comentario\n",
        "tiene\n",
        "saltos de linea\n",
        "\"\"\"\n",
        "print('Un mensaje por consola de python')"
      ],
      "metadata": {
        "colab": {
          "base_uri": "https://localhost:8080/"
        },
        "id": "XUC7TyPzm91w",
        "outputId": "a452157d-7d01-44ee-cb4a-25b352ff8f1f"
      },
      "execution_count": null,
      "outputs": [
        {
          "output_type": "stream",
          "name": "stdout",
          "text": [
            "Un mensaje por consola de python\n"
          ]
        }
      ]
    },
    {
      "cell_type": "markdown",
      "source": [
        "Aquí escribimos texto en Colab."
      ],
      "metadata": {
        "id": "rQqu6Wr6n9bi"
      }
    },
    {
      "cell_type": "code",
      "source": [],
      "metadata": {
        "id": "Kep5510yoJd_"
      },
      "execution_count": null,
      "outputs": []
    }
  ]
}